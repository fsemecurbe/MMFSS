{
 "cells": [
  {
   "cell_type": "code",
   "execution_count": 2,
   "id": "a90a1f42",
   "metadata": {},
   "outputs": [],
   "source": [
    "import numpy as np"
   ]
  },
  {
   "cell_type": "code",
   "execution_count": 8,
   "id": "6e23f159",
   "metadata": {},
   "outputs": [],
   "source": [
    "def joint_multifractal(p,q, n):\n",
    "    P = p.copy()\n",
    "    Q = q.copy()\n",
    "    for i in range(n):\n",
    "        P = np.kron(P, p)\n",
    "        Q = np.kron(Q, q)\n",
    "    return(np.stack([P,Q], axis=-1))\n",
    "\n",
    "rng = np.random.default_rng()\n",
    "\n",
    "def joint_logmultifractal(n):\n",
    "    P = rng.lognormal(0, 1, (2,2))\n",
    "    Q = rng.lognormal(0, 1, (2,2))\n",
    "    for i in range(n):\n",
    "        P = np.kron(P, np.ones((2,2))) \n",
    "        P = P * rng.lognormal(0, 1, P.shape)\n",
    "        Q = np.kron(Q, np.ones((2,2))) \n",
    "        Q = Q * rng.lognormal(0, 1, Q.shape)\n",
    "    return(np.stack([P,Q], axis=-1))\n",
    "    "
   ]
  },
  {
   "cell_type": "code",
   "execution_count": 10,
   "id": "cb1c246b",
   "metadata": {},
   "outputs": [],
   "source": [
    "cascade_simple = joint_multifractal(np.array([[0.25,0.25],[0.1,0.4]]),\n",
    "                   np.array([[0.1,0.1],[0.7,0.1]]),\n",
    "                   8)"
   ]
  },
  {
   "cell_type": "code",
   "execution_count": 11,
   "id": "6245e67b",
   "metadata": {},
   "outputs": [],
   "source": [
    "cascade_lognormal = joint_logmultifractal(8)"
   ]
  },
  {
   "cell_type": "code",
   "execution_count": 13,
   "id": "f71eab76",
   "metadata": {},
   "outputs": [],
   "source": [
    "np.savez('cascade_simple_log.npz',  cascade_simple, cascade_lognormal)"
   ]
  },
  {
   "cell_type": "code",
   "execution_count": 45,
   "id": "2994339c",
   "metadata": {},
   "outputs": [],
   "source": [
    "l=-.1\n",
    "W = np.exp(rng.multivariate_normal(np.array([0,0]), np.array([[1,l], [l, 1]]), 100000))"
   ]
  },
  {
   "cell_type": "code",
   "execution_count": 46,
   "id": "0e3529dd",
   "metadata": {},
   "outputs": [
    {
     "data": {
      "text/plain": [
       "array([[1.22878814, 0.50215377],\n",
       "       [1.10482285, 1.38683679],\n",
       "       [0.25990439, 0.89235613],\n",
       "       ...,\n",
       "       [1.3929147 , 0.38764565],\n",
       "       [0.63022876, 0.2805087 ],\n",
       "       [3.2555646 , 2.1795079 ]])"
      ]
     },
     "execution_count": 46,
     "metadata": {},
     "output_type": "execute_result"
    }
   ],
   "source": [
    "W"
   ]
  },
  {
   "cell_type": "code",
   "execution_count": 47,
   "id": "a344e954",
   "metadata": {},
   "outputs": [
    {
     "data": {
      "text/plain": [
       "array([[ 1.       , -0.0588691],\n",
       "       [-0.0588691,  1.       ]])"
      ]
     },
     "execution_count": 47,
     "metadata": {},
     "output_type": "execute_result"
    }
   ],
   "source": [
    "np.corrcoef(W.T)"
   ]
  },
  {
   "cell_type": "code",
   "execution_count": 27,
   "id": "85b5045a",
   "metadata": {},
   "outputs": [
    {
     "name": "stdout",
     "output_type": "stream",
     "text": [
      "[[ 1.          0.5184571  -0.70188642]\n",
      " [ 0.5184571   1.         -0.86094096]\n",
      " [-0.70188642 -0.86094096  1.        ]]\n"
     ]
    }
   ],
   "source": [
    "import numpy as np\n",
    "\n",
    "A = [45, 37, 42, 35, 39]\n",
    "B = [38, 31, 26, 28, 33]\n",
    "C = [10, 15, 17, 21, 12]\n",
    "\n",
    "data = np.array([A, B, C])\n",
    "\n",
    "cov_matrix = np.corrcoef(data)\n",
    "print(cov_matrix)"
   ]
  },
  {
   "cell_type": "code",
   "execution_count": 30,
   "id": "54ff1145",
   "metadata": {},
   "outputs": [
    {
     "data": {
      "text/plain": [
       "array([[45, 37, 42, 35, 39],\n",
       "       [38, 31, 26, 28, 33],\n",
       "       [10, 15, 17, 21, 12]])"
      ]
     },
     "execution_count": 30,
     "metadata": {},
     "output_type": "execute_result"
    }
   ],
   "source": [
    "data"
   ]
  }
 ],
 "metadata": {
  "kernelspec": {
   "display_name": "Python 3 (ipykernel)",
   "language": "python",
   "name": "python3"
  },
  "language_info": {
   "codemirror_mode": {
    "name": "ipython",
    "version": 3
   },
   "file_extension": ".py",
   "mimetype": "text/x-python",
   "name": "python",
   "nbconvert_exporter": "python",
   "pygments_lexer": "ipython3",
   "version": "3.9.7"
  }
 },
 "nbformat": 4,
 "nbformat_minor": 5
}
