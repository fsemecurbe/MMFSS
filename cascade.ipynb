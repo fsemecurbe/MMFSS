{
 "cells": [
  {
   "cell_type": "code",
   "execution_count": 4,
   "id": "a90a1f42",
   "metadata": {},
   "outputs": [],
   "source": [
    "import numpy as np\n",
    "rng = np.random.default_rng()"
   ]
  },
  {
   "cell_type": "code",
   "execution_count": 83,
   "id": "6e23f159",
   "metadata": {},
   "outputs": [],
   "source": [
    "def joint_multifractal(p,q, n):\n",
    "    P = p.copy()\n",
    "    Q = q.copy()\n",
    "    for i in range(n):\n",
    "        P = np.kron(P, p)\n",
    "        Q = np.kron(Q, q)\n",
    "    return(np.stack([P,Q], axis=-1))\n",
    "\n",
    "\n",
    "\n",
    "def joint_logmultifractal(n, sigma1=1, sigma2=1, corr=0):\n",
    "    \n",
    "    PQ = np.exp(rng.multivariate_normal(np.array([0,0]),  np.array([[sigma1**2,corr*sigma1*sigma2], [corr*sigma1*sigma2, sigma2**2]]), 4))\n",
    "    \n",
    "    P = PQ[:,0].reshape(2,2)\n",
    "    Q = PQ[:,1].reshape(2,2)\n",
    "    for i in range(n):\n",
    "        PQ = np.exp(rng.multivariate_normal(np.array([0,0]),np.array([[sigma1**2,corr*sigma1*sigma2], [corr*sigma1*sigma2, sigma2**2]]), P.shape[0]**2 * 4))\n",
    "        P = np.kron(P, np.ones((2,2))) \n",
    "        P = P * PQ[:,0].reshape(P.shape)\n",
    "        Q = np.kron(Q, np.ones((2,2))) \n",
    "        Q = Q * PQ[:,1].reshape(P.shape)\n",
    "    return(np.stack([P,Q], axis=-1))\n",
    "    "
   ]
  },
  {
   "cell_type": "code",
   "execution_count": 61,
   "id": "cb1c246b",
   "metadata": {},
   "outputs": [],
   "source": [
    "cascade_simple = joint_multifractal(np.array([[0.25,0.25],[0.1,0.4]]),\n",
    "                   np.array([[0.1,0.1],[0.7,0.1]]),\n",
    "                   8)"
   ]
  },
  {
   "cell_type": "code",
   "execution_count": 96,
   "id": "ac614c87",
   "metadata": {},
   "outputs": [],
   "source": [
    "test = np.stack([joint_logmultifractal(8,corr=l, sigma1=0.5, sigma2=0.5 ) for l in np.arange(-0.9,1.1,0.1)])"
   ]
  },
  {
   "cell_type": "code",
   "execution_count": 97,
   "id": "4795ac64",
   "metadata": {},
   "outputs": [],
   "source": [
    "np.savez_compressed('lognormalcascade.npz', test)"
   ]
  },
  {
   "cell_type": "code",
   "execution_count": 64,
   "id": "6245e67b",
   "metadata": {},
   "outputs": [],
   "source": [
    "cascade_lognormal = joint_logmultifractal(8, 0.5)"
   ]
  },
  {
   "cell_type": "code",
   "execution_count": 65,
   "id": "f71eab76",
   "metadata": {},
   "outputs": [],
   "source": [
    "np.savez('cascade_simple_log.npz',  cascade_simple, cascade_lognormal)"
   ]
  }
 ],
 "metadata": {
  "kernelspec": {
   "display_name": "Python 3 (ipykernel)",
   "language": "python",
   "name": "python3"
  },
  "language_info": {
   "codemirror_mode": {
    "name": "ipython",
    "version": 3
   },
   "file_extension": ".py",
   "mimetype": "text/x-python",
   "name": "python",
   "nbconvert_exporter": "python",
   "pygments_lexer": "ipython3",
   "version": "3.9.7"
  }
 },
 "nbformat": 4,
 "nbformat_minor": 5
}
