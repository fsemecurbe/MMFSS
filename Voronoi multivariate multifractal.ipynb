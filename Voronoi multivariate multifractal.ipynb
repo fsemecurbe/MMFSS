{
 "cells": [
  {
   "cell_type": "code",
   "execution_count": 26,
   "id": "a1780660",
   "metadata": {},
   "outputs": [
    {
     "data": {
      "text/plain": [
       "[<shapely.geometry.polygon.Polygon at 0x1c85b6a6940>,\n",
       " <shapely.geometry.polygon.Polygon at 0x1c85b7b9d90>,\n",
       " <shapely.geometry.polygon.Polygon at 0x1c85b98a580>,\n",
       " <shapely.geometry.polygon.Polygon at 0x1c85b98ad00>,\n",
       " <shapely.geometry.polygon.Polygon at 0x1c85b98ac10>,\n",
       " <shapely.geometry.polygon.Polygon at 0x1c85b98ac70>]"
      ]
     },
     "execution_count": 26,
     "metadata": {},
     "output_type": "execute_result"
    }
   ],
   "source": [
    "import geopandas as gpd\n",
    "import numpy as np\n",
    "from shapely.ops import voronoi_diagram\n",
    "\n",
    "\n",
    "from shapely.geometry import MultiPoint\n",
    "points = MultiPoint([(0, 0), (1, 1), (0, 2), (2, 2), (3, 1), (1, 0)])\n",
    "\n",
    "regions = voronoi_diagram(points)\n",
    "\n",
    "list(regions.geoms)"
   ]
  },
  {
   "cell_type": "code",
   "execution_count": 19,
   "id": "c3204539",
   "metadata": {},
   "outputs": [
    {
     "data": {
      "text/plain": [
       "<AxesSubplot:>"
      ]
     },
     "execution_count": 19,
     "metadata": {},
     "output_type": "execute_result"
    },
    {
     "data": {
      "image/png": "[encoded data removed]",
      "text/plain": [
       "<Figure size 432x288 with 1 Axes>"
      ]
     },
     "metadata": {
      "needs_background": "light"
     },
     "output_type": "display_data"
    }
   ],
   "source": [
    "gdf = gpd.GeoDataFrame(geometry=list(regions.geoms))\n",
    "gdf.plot()"
   ]
  },
  {
   "cell_type": "code",
   "execution_count": 24,
   "id": "d97b64a2",
   "metadata": {},
   "outputs": [],
   "source": [
    "gdf[['minx','miny','maxx','maxy']] = gdf.bounds"
   ]
  },
  {
   "cell_type": "code",
   "execution_count": 28,
   "id": "74a62881",
   "metadata": {},
   "outputs": [],
   "source": [
    "def points_in_polygon(n, polygon):\n",
    "    x = np.random.uniform(polygon.minx, polygon.maxx, n*10)\n",
    "    y = np.random.uniform(polygon.miny, polygon.maxy, n*10)\n",
    "    geometry = geopandas.points_from_xy(df['x'], df['y'], df['z'])\n",
    "    gdf = geopandas.GeoDataFrame(geometry=geopandas.points_from_xy(x, y))\n",
    "    Sjoin = gpd.tools.sjoin(gdf_points, gdf_poly, predicate=\"within\", how='left')\n",
    "\n",
    "# Keep points in \"myPoly\"\n",
    "pnts_in_poly = gdf_points[Sjoin.index_right=='myPoly']  "
   ]
  }
 ],
 "metadata": {
  "kernelspec": {
   "display_name": "Python 3 (ipykernel)",
   "language": "python",
   "name": "python3"
  },
  "language_info": {
   "codemirror_mode": {
    "name": "ipython",
    "version": 3
   },
   "file_extension": ".py",
   "mimetype": "text/x-python",
   "name": "python",
   "nbconvert_exporter": "python",
   "pygments_lexer": "ipython3",
   "version": "3.9.7"
  }
 },
 "nbformat": 4,
 "nbformat_minor": 5
}
